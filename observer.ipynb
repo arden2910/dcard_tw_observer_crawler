{
 "cells": [
  {
   "cell_type": "markdown",
   "id": "bc929a2f-205b-4b4b-8a60-b9cfd1a70433",
   "metadata": {},
   "source": []
  },
  {
   "cell_type": "code",
   "execution_count": null,
   "id": "10d67855-4a4d-4d00-9832-003138c407d9",
   "metadata": {
    "execution": {
     "iopub.execute_input": "2022-04-22T16:55:23.797342Z",
     "iopub.status.busy": "2022-04-22T16:55:23.796540Z",
     "iopub.status.idle": "2022-04-22T16:55:23.803368Z",
     "shell.execute_reply": "2022-04-22T16:55:23.801875Z",
     "shell.execute_reply.started": "2022-04-22T16:55:23.797302Z"
    },
    "tags": []
   },
   "outputs": [],
   "source": [
    "import requests\n",
    "import time\n",
    "import json\n",
    "import os\n",
    "import random"
   ]
  },
  {
   "cell_type": "code",
   "execution_count": null,
   "id": "4131a20e-38ad-4be2-be77-61f3ba3f4d67",
   "metadata": {
    "execution": {
     "iopub.execute_input": "2022-04-22T16:55:24.048495Z",
     "iopub.status.busy": "2022-04-22T16:55:24.048055Z",
     "iopub.status.idle": "2022-04-22T16:56:50.792821Z",
     "shell.execute_reply": "2022-04-22T16:56:50.791630Z",
     "shell.execute_reply.started": "2022-04-22T16:55:24.048459Z"
    },
    "tags": []
   },
   "outputs": [],
   "source": [
    "def get_post(date,term):\n",
    "    url = f'https://tw.observer/api/posts?hot=0&before={date}T15%3A51%3A21.066000Z&term={term}'\n",
    "    headers = {'user-agent': 'Mozilla/5.0 (X11; Linux x86_64) AppleWebKit/537.36 (KHTML, like Gecko) Chrome/108.0.0.0 Safari/537.36',\n",
    "              'referer': 'https://www.dcard.tw/f/identity_v',\n",
    "              'cookie': 'dcard-web-oauth-tk=eyJhY2Nlc3NUb2tlbiI6ImV5SmhiR2NpT2lKRlpFUlRRU0lzSW10cFpDSTZJbEpMTFVoZlRUUm9VVkpET1dzeFUxcEdZMEZ1UkRBMVZreFljV1JZUm1kUVZYQXdWbGx0YjJ4eWFqZzlJbjAuZXlKaGNIQWlPaUpqTW1VM05qTTVOUzB6T0dFeExUUTRaamN0WVRsbE1DMWhaamN6TldJNFpqZGpOREVpTENKbGVIQWlPakUyTnpJek56TXhNRFFzSW1saGRDSTZNVFkzTWpNM01qSXdOQ3dpYVhKMElqb2lOalZsTjJFelpqVXROVEJsT0MwME5EUXhMV0k1WldJdE56Y3hOemcwTjJReU9EWXpJaXdpYVhOeklqb2laR05oY21RaUxDSnFkR2tpT2lKbU5UbGhZV1kxWlMwd01HWTRMVFExTnpBdE9EazFOQzFsTlRnellqYzJZekV6TVRBaUxDSnpZMjl3WlhNaU9sc2liV1Z0WW1WeUlpd2liV1Z0WW1WeU9uZHlhWFJsSWl3aVpXMWhhV3dpTENKbGJXRnBiRHAzY21sMFpTSXNJbVJsZG1salpTSXNJbVJsZG1salpUcDNjbWwwWlNJc0luQm9iM1J2SWl3aWJtOTBhV1pwWTJGMGFXOXVJaXdpWm05eWRXMDZjM1ZpYzJOeWFXSmxJaXdpY0c5emRDSXNJbkJ2YzNRNmMzVmljMk55YVdKbElpd2labUZqWldKdmIyc2lMQ0pqYjJ4c1pXTjBhVzl1SWl3aVkyOXNiR1ZqZEdsdmJqcDNjbWwwWlNJc0lteHBhMlVpTENKd2IzTjBPbmR5YVhSbElpd2lZMjl0YldWdWREcDNjbWwwWlNJc0luSmxjRzl5ZENJc0ltMWhkR05vSWl3aWJXRjBZMmc2ZDNKcGRHVWlMQ0ptY21sbGJtUWlMQ0ptY21sbGJtUTZkM0pwZEdVaUxDSnRaWE56WVdkbElpd2liV1Z6YzJGblpUcDNjbWwwWlNJc0luQm9iMjVsSWl3aWNHaHZibVU2ZG1Gc2FXUmhkR1VpTENKd2FHOXVaVHAzY21sMFpTSXNJbkJsY25OdmJtRWlMQ0pqYjI1bWFXY2lMQ0pqYjI1bWFXYzZkM0pwZEdVaUxDSjBiMnRsYmpweVpYWnZhMlVpTENKd1pYSnpiMjVoT25OMVluTmpjbWxpWlNJc0ltWnZjblZ0SWl3aWFXUmxiblJwZEhrNmRtRnNhV1JoZEdWa0lpd2lhV1JqWVhKa0lpd2lkRzl3YVdNaUxDSjBiM0JwWXpwemRXSnpZM0pwWW1VaUxDSm1aV1ZrT25OMVluTmpjbWxpWlNJc0luSmxZV04wYVc5dUlpd2ljbVZoWTNScGIyNGlMQ0pzYjJkcGJsWmxjbWxtYVdOaGRHbHZiaUlzSW14dloybHVWbVZ5YVdacFkyRjBhVzl1T25abGNtbG1lU0lzSW5CdmJHdzZkM0pwZEdVaUxDSmtiM2R1ZG05MFpTSXNJbkJsY25OdmJtRTZkM0pwZEdVaUxDSnRaWE56WVdkbE9uQnlhWFpoZEdVaVhTd2ljM1ZpSWpvaU9UZ3hOVEFpZlEuaXNtU21hSWxxbG9ZREVDZjd6d3VIM2h2U3Z4dG9uQXFjdGNDR2NkZFdJaFJLcFpFZGYxU3g3Q1lYMVllczRqeGV6d05ZMUxINFlveU9IR2JMV1RJQXciLCJ0b2tlblR5cGUiOiJCZWFyZXIiLCJyZWZyZXNoVG9rZW4iOiJORHlPOGRrdlJ5Q1l3WURmOCtKNkx3PT0iLCJleHBpcmVzQXQiOiIyMDIyLTEyLTMwVDA0OjA1OjA0LjAwMFoifQ==; dcard-web-oauth-tk.sig=LCcQRzI4YGymNAKR7fKFUrFG9FI; _cfuvid=D2k3b9tvEEGfDFdt1GOe3.78WEferGrMEKoDo2WKclg-1672372528246-0-604800000; dcsrd=JSzUqssG6zEiTcJYW7kWWseK; __cf_bm=kzma9E6xMnCEXFrRUkCtC.1uw_paz90eaXVGHVU5XWI-1672372643-0-AarSWQIaoOcdWMdrUGkmogkxroXr2ECiPEuSvcrZXwE216q9Ow/s/xUrSLNT/0gFzcFN4F7N9knCtDuWsKEZSsI=; cf_chl_rc_i=1; cf_chl_2=84ea45ac2633b76; cf_clearance=BovGiBNj8nqpIdYUTa8kQMrUDy3E7FqOSXuEJaZT.mI-1672372779-0-250'}\n",
    "\n",
    "    print(f'{date} \\t {url}')\n",
    "\n",
    "    resp = requests.get(url, headers=headers)\n",
    "    if resp.text == 'Internal Server Error':\n",
    "        return None\n",
    "    else:\n",
    "        dict_result = json.loads(resp.text)\n",
    "        return dict_result\n",
    "\n",
    "def get_comment(comment_id):\n",
    "    url = f'https://tw.observer/api/comments/{comment_id}'\n",
    "    headers = {'user-agent': 'Mozilla/5.0 (X11; Linux x86_64) AppleWebKit/537.36 (KHTML, like Gecko) Chrome/108.0.0.0 Safari/537.36',\n",
    "              'referer': 'https://www.dcard.tw/f/identity_v',\n",
    "              'cookie': 'dcard-web-oauth-tk=eyJhY2Nlc3NUb2tlbiI6ImV5SmhiR2NpT2lKRlpFUlRRU0lzSW10cFpDSTZJbEpMTFVoZlRUUm9VVkpET1dzeFUxcEdZMEZ1UkRBMVZreFljV1JZUm1kUVZYQXdWbGx0YjJ4eWFqZzlJbjAuZXlKaGNIQWlPaUpqTW1VM05qTTVOUzB6T0dFeExUUTRaamN0WVRsbE1DMWhaamN6TldJNFpqZGpOREVpTENKbGVIQWlPakUyTnpJek56TXhNRFFzSW1saGRDSTZNVFkzTWpNM01qSXdOQ3dpYVhKMElqb2lOalZsTjJFelpqVXROVEJsT0MwME5EUXhMV0k1WldJdE56Y3hOemcwTjJReU9EWXpJaXdpYVhOeklqb2laR05oY21RaUxDSnFkR2tpT2lKbU5UbGhZV1kxWlMwd01HWTRMVFExTnpBdE9EazFOQzFsTlRnellqYzJZekV6TVRBaUxDSnpZMjl3WlhNaU9sc2liV1Z0WW1WeUlpd2liV1Z0WW1WeU9uZHlhWFJsSWl3aVpXMWhhV3dpTENKbGJXRnBiRHAzY21sMFpTSXNJbVJsZG1salpTSXNJbVJsZG1salpUcDNjbWwwWlNJc0luQm9iM1J2SWl3aWJtOTBhV1pwWTJGMGFXOXVJaXdpWm05eWRXMDZjM1ZpYzJOeWFXSmxJaXdpY0c5emRDSXNJbkJ2YzNRNmMzVmljMk55YVdKbElpd2labUZqWldKdmIyc2lMQ0pqYjJ4c1pXTjBhVzl1SWl3aVkyOXNiR1ZqZEdsdmJqcDNjbWwwWlNJc0lteHBhMlVpTENKd2IzTjBPbmR5YVhSbElpd2lZMjl0YldWdWREcDNjbWwwWlNJc0luSmxjRzl5ZENJc0ltMWhkR05vSWl3aWJXRjBZMmc2ZDNKcGRHVWlMQ0ptY21sbGJtUWlMQ0ptY21sbGJtUTZkM0pwZEdVaUxDSnRaWE56WVdkbElpd2liV1Z6YzJGblpUcDNjbWwwWlNJc0luQm9iMjVsSWl3aWNHaHZibVU2ZG1Gc2FXUmhkR1VpTENKd2FHOXVaVHAzY21sMFpTSXNJbkJsY25OdmJtRWlMQ0pqYjI1bWFXY2lMQ0pqYjI1bWFXYzZkM0pwZEdVaUxDSjBiMnRsYmpweVpYWnZhMlVpTENKd1pYSnpiMjVoT25OMVluTmpjbWxpWlNJc0ltWnZjblZ0SWl3aWFXUmxiblJwZEhrNmRtRnNhV1JoZEdWa0lpd2lhV1JqWVhKa0lpd2lkRzl3YVdNaUxDSjBiM0JwWXpwemRXSnpZM0pwWW1VaUxDSm1aV1ZrT25OMVluTmpjbWxpWlNJc0luSmxZV04wYVc5dUlpd2ljbVZoWTNScGIyNGlMQ0pzYjJkcGJsWmxjbWxtYVdOaGRHbHZiaUlzSW14dloybHVWbVZ5YVdacFkyRjBhVzl1T25abGNtbG1lU0lzSW5CdmJHdzZkM0pwZEdVaUxDSmtiM2R1ZG05MFpTSXNJbkJsY25OdmJtRTZkM0pwZEdVaUxDSnRaWE56WVdkbE9uQnlhWFpoZEdVaVhTd2ljM1ZpSWpvaU9UZ3hOVEFpZlEuaXNtU21hSWxxbG9ZREVDZjd6d3VIM2h2U3Z4dG9uQXFjdGNDR2NkZFdJaFJLcFpFZGYxU3g3Q1lYMVllczRqeGV6d05ZMUxINFlveU9IR2JMV1RJQXciLCJ0b2tlblR5cGUiOiJCZWFyZXIiLCJyZWZyZXNoVG9rZW4iOiJORHlPOGRrdlJ5Q1l3WURmOCtKNkx3PT0iLCJleHBpcmVzQXQiOiIyMDIyLTEyLTMwVDA0OjA1OjA0LjAwMFoifQ==; dcard-web-oauth-tk.sig=LCcQRzI4YGymNAKR7fKFUrFG9FI; _cfuvid=D2k3b9tvEEGfDFdt1GOe3.78WEferGrMEKoDo2WKclg-1672372528246-0-604800000; dcsrd=JSzUqssG6zEiTcJYW7kWWseK; __cf_bm=kzma9E6xMnCEXFrRUkCtC.1uw_paz90eaXVGHVU5XWI-1672372643-0-AarSWQIaoOcdWMdrUGkmogkxroXr2ECiPEuSvcrZXwE216q9Ow/s/xUrSLNT/0gFzcFN4F7N9knCtDuWsKEZSsI=; cf_chl_rc_i=1; cf_chl_2=84ea45ac2633b76; cf_clearance=BovGiBNj8nqpIdYUTa8kQMrUDy3E7FqOSXuEJaZT.mI-1672372779-0-250'}\n",
    "\n",
    "    print(f'{comment_id} \\t {url}')\n",
    "    resp = requests.get(url, headers=headers)\n",
    "    if resp.text == 'Internal Server Error':\n",
    "        return None\n",
    "    else:\n",
    "        dict_result = json.loads(resp.text)\n",
    "        return dict_result\n",
    "\n"
   ]
  },
  {
   "cell_type": "code",
   "execution_count": null,
   "outputs": [],
   "source": [
    "\n",
    "import logging\n",
    "\n",
    "logger = logging.getLogger(__name__)\n",
    "logger.setLevel(logging.ERROR)\n",
    "\n",
    "# create a file handler\n",
    "handler = logging.FileHandler('errors.log')\n",
    "handler.setLevel(logging.ERROR)\n",
    "\n",
    "# create a logging format\n",
    "formatter = logging.Formatter('%(asctime)s - %(name)s - %(levelname)s - %(message)s')\n",
    "handler.setFormatter(formatter)\n",
    "\n",
    "# add the handler to the logger\n",
    "logger.addHandler(handler)\n",
    "\n"
   ],
   "metadata": {
    "collapsed": false
   }
  },
  {
   "cell_type": "code",
   "execution_count": null,
   "outputs": [
    {
     "name": "stdout",
     "output_type": "stream",
     "text": [
      "232060175 \t https://tw.observer/api/comments/232060175\n",
      "232060021 \t https://tw.observer/api/comments/232060021\n",
      "232059700 \t https://tw.observer/api/comments/232059700\n",
      "232059583 \t https://tw.observer/api/comments/232059583\n",
      "232058994 \t https://tw.observer/api/comments/232058994\n",
      "2019-09-10 \t https://tw.observer/api/posts?hot=0&before=2019-09-10T15%3A51%3A21.066000Z&term=美妝\n",
      "232054254 \t https://tw.observer/api/comments/232054254\n",
      "232054152 \t https://tw.observer/api/comments/232054152\n",
      "232054015 \t https://tw.observer/api/comments/232054015\n",
      "232053594 \t https://tw.observer/api/comments/232053594\n",
      "232051022 \t https://tw.observer/api/comments/232051022\n",
      "232051005 \t https://tw.observer/api/comments/232051005\n",
      "232050582 \t https://tw.observer/api/comments/232050582\n"
     ]
    },
    {
     "ename": "KeyboardInterrupt",
     "evalue": "",
     "output_type": "error",
     "traceback": [
      "\u001B[0;31m---------------------------------------------------------------------------\u001B[0m",
      "\u001B[0;31mKeyboardInterrupt\u001B[0m                         Traceback (most recent call last)",
      "\u001B[0;32m<ipython-input-5-fe897884c62c>\u001B[0m in \u001B[0;36m<module>\u001B[0;34m\u001B[0m\n\u001B[1;32m     30\u001B[0m         \u001B[0;32mif\u001B[0m \u001B[0mcomment_count\u001B[0m\u001B[0;34m>\u001B[0m\u001B[0;36m0\u001B[0m\u001B[0;34m:\u001B[0m\u001B[0;34m\u001B[0m\u001B[0;34m\u001B[0m\u001B[0m\n\u001B[1;32m     31\u001B[0m             \u001B[0;32mtry\u001B[0m\u001B[0;34m:\u001B[0m\u001B[0;34m\u001B[0m\u001B[0;34m\u001B[0m\u001B[0m\n\u001B[0;32m---> 32\u001B[0;31m                 \u001B[0mcomments\u001B[0m \u001B[0;34m=\u001B[0m \u001B[0mget_comment\u001B[0m\u001B[0;34m(\u001B[0m\u001B[0m_post\u001B[0m\u001B[0;34m[\u001B[0m\u001B[0;34m'id'\u001B[0m\u001B[0;34m]\u001B[0m\u001B[0;34m)\u001B[0m\u001B[0;34m\u001B[0m\u001B[0;34m\u001B[0m\u001B[0m\n\u001B[0m\u001B[1;32m     33\u001B[0m                 \u001B[0;32mif\u001B[0m \u001B[0;32mnot\u001B[0m \u001B[0mcomments\u001B[0m\u001B[0;34m:\u001B[0m\u001B[0;34m\u001B[0m\u001B[0;34m\u001B[0m\u001B[0m\n\u001B[1;32m     34\u001B[0m                     \u001B[0mlogger\u001B[0m\u001B[0;34m.\u001B[0m\u001B[0merror\u001B[0m\u001B[0;34m(\u001B[0m\u001B[0;34mf\"In post {_post['id']}\"\u001B[0m\u001B[0;34m+\u001B[0m \u001B[0mstr\u001B[0m\u001B[0;34m(\u001B[0m\u001B[0;34m'Internal Server Error'\u001B[0m\u001B[0;34m)\u001B[0m\u001B[0;34m)\u001B[0m\u001B[0;34m\u001B[0m\u001B[0;34m\u001B[0m\u001B[0m\n",
      "\u001B[0;32m<ipython-input-2-eb729516aeb7>\u001B[0m in \u001B[0;36mget_comment\u001B[0;34m(comment_id)\u001B[0m\n\u001B[1;32m     21\u001B[0m \u001B[0;34m\u001B[0m\u001B[0m\n\u001B[1;32m     22\u001B[0m     \u001B[0mprint\u001B[0m\u001B[0;34m(\u001B[0m\u001B[0;34mf'{comment_id} \\t {url}'\u001B[0m\u001B[0;34m)\u001B[0m\u001B[0;34m\u001B[0m\u001B[0;34m\u001B[0m\u001B[0m\n\u001B[0;32m---> 23\u001B[0;31m     \u001B[0mresp\u001B[0m \u001B[0;34m=\u001B[0m \u001B[0mrequests\u001B[0m\u001B[0;34m.\u001B[0m\u001B[0mget\u001B[0m\u001B[0;34m(\u001B[0m\u001B[0murl\u001B[0m\u001B[0;34m,\u001B[0m \u001B[0mheaders\u001B[0m\u001B[0;34m=\u001B[0m\u001B[0mheaders\u001B[0m\u001B[0;34m)\u001B[0m\u001B[0;34m\u001B[0m\u001B[0;34m\u001B[0m\u001B[0m\n\u001B[0m\u001B[1;32m     24\u001B[0m     \u001B[0;32mif\u001B[0m \u001B[0mresp\u001B[0m\u001B[0;34m.\u001B[0m\u001B[0mtext\u001B[0m \u001B[0;34m==\u001B[0m \u001B[0;34m'Internal Server Error'\u001B[0m\u001B[0;34m:\u001B[0m\u001B[0;34m\u001B[0m\u001B[0;34m\u001B[0m\u001B[0m\n\u001B[1;32m     25\u001B[0m         \u001B[0;32mreturn\u001B[0m \u001B[0;32mNone\u001B[0m\u001B[0;34m\u001B[0m\u001B[0;34m\u001B[0m\u001B[0m\n",
      "\u001B[0;32m~/.local/lib/python3.8/site-packages/requests/api.py\u001B[0m in \u001B[0;36mget\u001B[0;34m(url, params, **kwargs)\u001B[0m\n\u001B[1;32m     71\u001B[0m     \"\"\"\n\u001B[1;32m     72\u001B[0m \u001B[0;34m\u001B[0m\u001B[0m\n\u001B[0;32m---> 73\u001B[0;31m     \u001B[0;32mreturn\u001B[0m \u001B[0mrequest\u001B[0m\u001B[0;34m(\u001B[0m\u001B[0;34m\"get\"\u001B[0m\u001B[0;34m,\u001B[0m \u001B[0murl\u001B[0m\u001B[0;34m,\u001B[0m \u001B[0mparams\u001B[0m\u001B[0;34m=\u001B[0m\u001B[0mparams\u001B[0m\u001B[0;34m,\u001B[0m \u001B[0;34m**\u001B[0m\u001B[0mkwargs\u001B[0m\u001B[0;34m)\u001B[0m\u001B[0;34m\u001B[0m\u001B[0;34m\u001B[0m\u001B[0m\n\u001B[0m\u001B[1;32m     74\u001B[0m \u001B[0;34m\u001B[0m\u001B[0m\n\u001B[1;32m     75\u001B[0m \u001B[0;34m\u001B[0m\u001B[0m\n",
      "\u001B[0;32m~/.local/lib/python3.8/site-packages/requests/api.py\u001B[0m in \u001B[0;36mrequest\u001B[0;34m(method, url, **kwargs)\u001B[0m\n\u001B[1;32m     57\u001B[0m     \u001B[0;31m# cases, and look like a memory leak in others.\u001B[0m\u001B[0;34m\u001B[0m\u001B[0;34m\u001B[0m\u001B[0;34m\u001B[0m\u001B[0m\n\u001B[1;32m     58\u001B[0m     \u001B[0;32mwith\u001B[0m \u001B[0msessions\u001B[0m\u001B[0;34m.\u001B[0m\u001B[0mSession\u001B[0m\u001B[0;34m(\u001B[0m\u001B[0;34m)\u001B[0m \u001B[0;32mas\u001B[0m \u001B[0msession\u001B[0m\u001B[0;34m:\u001B[0m\u001B[0;34m\u001B[0m\u001B[0;34m\u001B[0m\u001B[0m\n\u001B[0;32m---> 59\u001B[0;31m         \u001B[0;32mreturn\u001B[0m \u001B[0msession\u001B[0m\u001B[0;34m.\u001B[0m\u001B[0mrequest\u001B[0m\u001B[0;34m(\u001B[0m\u001B[0mmethod\u001B[0m\u001B[0;34m=\u001B[0m\u001B[0mmethod\u001B[0m\u001B[0;34m,\u001B[0m \u001B[0murl\u001B[0m\u001B[0;34m=\u001B[0m\u001B[0murl\u001B[0m\u001B[0;34m,\u001B[0m \u001B[0;34m**\u001B[0m\u001B[0mkwargs\u001B[0m\u001B[0;34m)\u001B[0m\u001B[0;34m\u001B[0m\u001B[0;34m\u001B[0m\u001B[0m\n\u001B[0m\u001B[1;32m     60\u001B[0m \u001B[0;34m\u001B[0m\u001B[0m\n\u001B[1;32m     61\u001B[0m \u001B[0;34m\u001B[0m\u001B[0m\n",
      "\u001B[0;32m~/.local/lib/python3.8/site-packages/requests/sessions.py\u001B[0m in \u001B[0;36mrequest\u001B[0;34m(self, method, url, params, data, headers, cookies, files, auth, timeout, allow_redirects, proxies, hooks, stream, verify, cert, json)\u001B[0m\n\u001B[1;32m    585\u001B[0m         }\n\u001B[1;32m    586\u001B[0m         \u001B[0msend_kwargs\u001B[0m\u001B[0;34m.\u001B[0m\u001B[0mupdate\u001B[0m\u001B[0;34m(\u001B[0m\u001B[0msettings\u001B[0m\u001B[0;34m)\u001B[0m\u001B[0;34m\u001B[0m\u001B[0;34m\u001B[0m\u001B[0m\n\u001B[0;32m--> 587\u001B[0;31m         \u001B[0mresp\u001B[0m \u001B[0;34m=\u001B[0m \u001B[0mself\u001B[0m\u001B[0;34m.\u001B[0m\u001B[0msend\u001B[0m\u001B[0;34m(\u001B[0m\u001B[0mprep\u001B[0m\u001B[0;34m,\u001B[0m \u001B[0;34m**\u001B[0m\u001B[0msend_kwargs\u001B[0m\u001B[0;34m)\u001B[0m\u001B[0;34m\u001B[0m\u001B[0;34m\u001B[0m\u001B[0m\n\u001B[0m\u001B[1;32m    588\u001B[0m \u001B[0;34m\u001B[0m\u001B[0m\n\u001B[1;32m    589\u001B[0m         \u001B[0;32mreturn\u001B[0m \u001B[0mresp\u001B[0m\u001B[0;34m\u001B[0m\u001B[0;34m\u001B[0m\u001B[0m\n",
      "\u001B[0;32m~/.local/lib/python3.8/site-packages/requests/sessions.py\u001B[0m in \u001B[0;36msend\u001B[0;34m(self, request, **kwargs)\u001B[0m\n\u001B[1;32m    699\u001B[0m \u001B[0;34m\u001B[0m\u001B[0m\n\u001B[1;32m    700\u001B[0m         \u001B[0;31m# Send the request\u001B[0m\u001B[0;34m\u001B[0m\u001B[0;34m\u001B[0m\u001B[0;34m\u001B[0m\u001B[0m\n\u001B[0;32m--> 701\u001B[0;31m         \u001B[0mr\u001B[0m \u001B[0;34m=\u001B[0m \u001B[0madapter\u001B[0m\u001B[0;34m.\u001B[0m\u001B[0msend\u001B[0m\u001B[0;34m(\u001B[0m\u001B[0mrequest\u001B[0m\u001B[0;34m,\u001B[0m \u001B[0;34m**\u001B[0m\u001B[0mkwargs\u001B[0m\u001B[0;34m)\u001B[0m\u001B[0;34m\u001B[0m\u001B[0;34m\u001B[0m\u001B[0m\n\u001B[0m\u001B[1;32m    702\u001B[0m \u001B[0;34m\u001B[0m\u001B[0m\n\u001B[1;32m    703\u001B[0m         \u001B[0;31m# Total elapsed time of the request (approximately)\u001B[0m\u001B[0;34m\u001B[0m\u001B[0;34m\u001B[0m\u001B[0;34m\u001B[0m\u001B[0m\n",
      "\u001B[0;32m~/.local/lib/python3.8/site-packages/requests/adapters.py\u001B[0m in \u001B[0;36msend\u001B[0;34m(self, request, stream, timeout, verify, cert, proxies)\u001B[0m\n\u001B[1;32m    487\u001B[0m         \u001B[0;32mtry\u001B[0m\u001B[0;34m:\u001B[0m\u001B[0;34m\u001B[0m\u001B[0;34m\u001B[0m\u001B[0m\n\u001B[1;32m    488\u001B[0m             \u001B[0;32mif\u001B[0m \u001B[0;32mnot\u001B[0m \u001B[0mchunked\u001B[0m\u001B[0;34m:\u001B[0m\u001B[0;34m\u001B[0m\u001B[0;34m\u001B[0m\u001B[0m\n\u001B[0;32m--> 489\u001B[0;31m                 resp = conn.urlopen(\n\u001B[0m\u001B[1;32m    490\u001B[0m                     \u001B[0mmethod\u001B[0m\u001B[0;34m=\u001B[0m\u001B[0mrequest\u001B[0m\u001B[0;34m.\u001B[0m\u001B[0mmethod\u001B[0m\u001B[0;34m,\u001B[0m\u001B[0;34m\u001B[0m\u001B[0;34m\u001B[0m\u001B[0m\n\u001B[1;32m    491\u001B[0m                     \u001B[0murl\u001B[0m\u001B[0;34m=\u001B[0m\u001B[0murl\u001B[0m\u001B[0;34m,\u001B[0m\u001B[0;34m\u001B[0m\u001B[0;34m\u001B[0m\u001B[0m\n",
      "\u001B[0;32m~/.local/lib/python3.8/site-packages/urllib3/connectionpool.py\u001B[0m in \u001B[0;36murlopen\u001B[0;34m(self, method, url, body, headers, retries, redirect, assert_same_host, timeout, pool_timeout, release_conn, chunked, body_pos, **response_kw)\u001B[0m\n\u001B[1;32m    701\u001B[0m \u001B[0;34m\u001B[0m\u001B[0m\n\u001B[1;32m    702\u001B[0m             \u001B[0;31m# Make the request on the httplib connection object.\u001B[0m\u001B[0;34m\u001B[0m\u001B[0;34m\u001B[0m\u001B[0;34m\u001B[0m\u001B[0m\n\u001B[0;32m--> 703\u001B[0;31m             httplib_response = self._make_request(\n\u001B[0m\u001B[1;32m    704\u001B[0m                 \u001B[0mconn\u001B[0m\u001B[0;34m,\u001B[0m\u001B[0;34m\u001B[0m\u001B[0;34m\u001B[0m\u001B[0m\n\u001B[1;32m    705\u001B[0m                 \u001B[0mmethod\u001B[0m\u001B[0;34m,\u001B[0m\u001B[0;34m\u001B[0m\u001B[0;34m\u001B[0m\u001B[0m\n",
      "\u001B[0;32m~/.local/lib/python3.8/site-packages/urllib3/connectionpool.py\u001B[0m in \u001B[0;36m_make_request\u001B[0;34m(self, conn, method, url, timeout, chunked, **httplib_request_kw)\u001B[0m\n\u001B[1;32m    447\u001B[0m                     \u001B[0;31m# Python 3 (including for exceptions like SystemExit).\u001B[0m\u001B[0;34m\u001B[0m\u001B[0;34m\u001B[0m\u001B[0;34m\u001B[0m\u001B[0m\n\u001B[1;32m    448\u001B[0m                     \u001B[0;31m# Otherwise it looks like a bug in the code.\u001B[0m\u001B[0;34m\u001B[0m\u001B[0;34m\u001B[0m\u001B[0;34m\u001B[0m\u001B[0m\n\u001B[0;32m--> 449\u001B[0;31m                     \u001B[0msix\u001B[0m\u001B[0;34m.\u001B[0m\u001B[0mraise_from\u001B[0m\u001B[0;34m(\u001B[0m\u001B[0me\u001B[0m\u001B[0;34m,\u001B[0m \u001B[0;32mNone\u001B[0m\u001B[0;34m)\u001B[0m\u001B[0;34m\u001B[0m\u001B[0;34m\u001B[0m\u001B[0m\n\u001B[0m\u001B[1;32m    450\u001B[0m         \u001B[0;32mexcept\u001B[0m \u001B[0;34m(\u001B[0m\u001B[0mSocketTimeout\u001B[0m\u001B[0;34m,\u001B[0m \u001B[0mBaseSSLError\u001B[0m\u001B[0;34m,\u001B[0m \u001B[0mSocketError\u001B[0m\u001B[0;34m)\u001B[0m \u001B[0;32mas\u001B[0m \u001B[0me\u001B[0m\u001B[0;34m:\u001B[0m\u001B[0;34m\u001B[0m\u001B[0;34m\u001B[0m\u001B[0m\n\u001B[1;32m    451\u001B[0m             \u001B[0mself\u001B[0m\u001B[0;34m.\u001B[0m\u001B[0m_raise_timeout\u001B[0m\u001B[0;34m(\u001B[0m\u001B[0merr\u001B[0m\u001B[0;34m=\u001B[0m\u001B[0me\u001B[0m\u001B[0;34m,\u001B[0m \u001B[0murl\u001B[0m\u001B[0;34m=\u001B[0m\u001B[0murl\u001B[0m\u001B[0;34m,\u001B[0m \u001B[0mtimeout_value\u001B[0m\u001B[0;34m=\u001B[0m\u001B[0mread_timeout\u001B[0m\u001B[0;34m)\u001B[0m\u001B[0;34m\u001B[0m\u001B[0;34m\u001B[0m\u001B[0m\n",
      "\u001B[0;32m~/.local/lib/python3.8/site-packages/urllib3/packages/six.py\u001B[0m in \u001B[0;36mraise_from\u001B[0;34m(value, from_value)\u001B[0m\n",
      "\u001B[0;32m~/.local/lib/python3.8/site-packages/urllib3/connectionpool.py\u001B[0m in \u001B[0;36m_make_request\u001B[0;34m(self, conn, method, url, timeout, chunked, **httplib_request_kw)\u001B[0m\n\u001B[1;32m    442\u001B[0m                 \u001B[0;31m# Python 3\u001B[0m\u001B[0;34m\u001B[0m\u001B[0;34m\u001B[0m\u001B[0;34m\u001B[0m\u001B[0m\n\u001B[1;32m    443\u001B[0m                 \u001B[0;32mtry\u001B[0m\u001B[0;34m:\u001B[0m\u001B[0;34m\u001B[0m\u001B[0;34m\u001B[0m\u001B[0m\n\u001B[0;32m--> 444\u001B[0;31m                     \u001B[0mhttplib_response\u001B[0m \u001B[0;34m=\u001B[0m \u001B[0mconn\u001B[0m\u001B[0;34m.\u001B[0m\u001B[0mgetresponse\u001B[0m\u001B[0;34m(\u001B[0m\u001B[0;34m)\u001B[0m\u001B[0;34m\u001B[0m\u001B[0;34m\u001B[0m\u001B[0m\n\u001B[0m\u001B[1;32m    445\u001B[0m                 \u001B[0;32mexcept\u001B[0m \u001B[0mBaseException\u001B[0m \u001B[0;32mas\u001B[0m \u001B[0me\u001B[0m\u001B[0;34m:\u001B[0m\u001B[0;34m\u001B[0m\u001B[0;34m\u001B[0m\u001B[0m\n\u001B[1;32m    446\u001B[0m                     \u001B[0;31m# Remove the TypeError from the exception chain in\u001B[0m\u001B[0;34m\u001B[0m\u001B[0;34m\u001B[0m\u001B[0;34m\u001B[0m\u001B[0m\n",
      "\u001B[0;32m~/anaconda3/lib/python3.8/http/client.py\u001B[0m in \u001B[0;36mgetresponse\u001B[0;34m(self)\u001B[0m\n\u001B[1;32m   1345\u001B[0m         \u001B[0;32mtry\u001B[0m\u001B[0;34m:\u001B[0m\u001B[0;34m\u001B[0m\u001B[0;34m\u001B[0m\u001B[0m\n\u001B[1;32m   1346\u001B[0m             \u001B[0;32mtry\u001B[0m\u001B[0;34m:\u001B[0m\u001B[0;34m\u001B[0m\u001B[0;34m\u001B[0m\u001B[0m\n\u001B[0;32m-> 1347\u001B[0;31m                 \u001B[0mresponse\u001B[0m\u001B[0;34m.\u001B[0m\u001B[0mbegin\u001B[0m\u001B[0;34m(\u001B[0m\u001B[0;34m)\u001B[0m\u001B[0;34m\u001B[0m\u001B[0;34m\u001B[0m\u001B[0m\n\u001B[0m\u001B[1;32m   1348\u001B[0m             \u001B[0;32mexcept\u001B[0m \u001B[0mConnectionError\u001B[0m\u001B[0;34m:\u001B[0m\u001B[0;34m\u001B[0m\u001B[0;34m\u001B[0m\u001B[0m\n\u001B[1;32m   1349\u001B[0m                 \u001B[0mself\u001B[0m\u001B[0;34m.\u001B[0m\u001B[0mclose\u001B[0m\u001B[0;34m(\u001B[0m\u001B[0;34m)\u001B[0m\u001B[0;34m\u001B[0m\u001B[0;34m\u001B[0m\u001B[0m\n",
      "\u001B[0;32m~/anaconda3/lib/python3.8/http/client.py\u001B[0m in \u001B[0;36mbegin\u001B[0;34m(self)\u001B[0m\n\u001B[1;32m    305\u001B[0m         \u001B[0;31m# read until we get a non-100 response\u001B[0m\u001B[0;34m\u001B[0m\u001B[0;34m\u001B[0m\u001B[0;34m\u001B[0m\u001B[0m\n\u001B[1;32m    306\u001B[0m         \u001B[0;32mwhile\u001B[0m \u001B[0;32mTrue\u001B[0m\u001B[0;34m:\u001B[0m\u001B[0;34m\u001B[0m\u001B[0;34m\u001B[0m\u001B[0m\n\u001B[0;32m--> 307\u001B[0;31m             \u001B[0mversion\u001B[0m\u001B[0;34m,\u001B[0m \u001B[0mstatus\u001B[0m\u001B[0;34m,\u001B[0m \u001B[0mreason\u001B[0m \u001B[0;34m=\u001B[0m \u001B[0mself\u001B[0m\u001B[0;34m.\u001B[0m\u001B[0m_read_status\u001B[0m\u001B[0;34m(\u001B[0m\u001B[0;34m)\u001B[0m\u001B[0;34m\u001B[0m\u001B[0;34m\u001B[0m\u001B[0m\n\u001B[0m\u001B[1;32m    308\u001B[0m             \u001B[0;32mif\u001B[0m \u001B[0mstatus\u001B[0m \u001B[0;34m!=\u001B[0m \u001B[0mCONTINUE\u001B[0m\u001B[0;34m:\u001B[0m\u001B[0;34m\u001B[0m\u001B[0;34m\u001B[0m\u001B[0m\n\u001B[1;32m    309\u001B[0m                 \u001B[0;32mbreak\u001B[0m\u001B[0;34m\u001B[0m\u001B[0;34m\u001B[0m\u001B[0m\n",
      "\u001B[0;32m~/anaconda3/lib/python3.8/http/client.py\u001B[0m in \u001B[0;36m_read_status\u001B[0;34m(self)\u001B[0m\n\u001B[1;32m    266\u001B[0m \u001B[0;34m\u001B[0m\u001B[0m\n\u001B[1;32m    267\u001B[0m     \u001B[0;32mdef\u001B[0m \u001B[0m_read_status\u001B[0m\u001B[0;34m(\u001B[0m\u001B[0mself\u001B[0m\u001B[0;34m)\u001B[0m\u001B[0;34m:\u001B[0m\u001B[0;34m\u001B[0m\u001B[0;34m\u001B[0m\u001B[0m\n\u001B[0;32m--> 268\u001B[0;31m         \u001B[0mline\u001B[0m \u001B[0;34m=\u001B[0m \u001B[0mstr\u001B[0m\u001B[0;34m(\u001B[0m\u001B[0mself\u001B[0m\u001B[0;34m.\u001B[0m\u001B[0mfp\u001B[0m\u001B[0;34m.\u001B[0m\u001B[0mreadline\u001B[0m\u001B[0;34m(\u001B[0m\u001B[0m_MAXLINE\u001B[0m \u001B[0;34m+\u001B[0m \u001B[0;36m1\u001B[0m\u001B[0;34m)\u001B[0m\u001B[0;34m,\u001B[0m \u001B[0;34m\"iso-8859-1\"\u001B[0m\u001B[0;34m)\u001B[0m\u001B[0;34m\u001B[0m\u001B[0;34m\u001B[0m\u001B[0m\n\u001B[0m\u001B[1;32m    269\u001B[0m         \u001B[0;32mif\u001B[0m \u001B[0mlen\u001B[0m\u001B[0;34m(\u001B[0m\u001B[0mline\u001B[0m\u001B[0;34m)\u001B[0m \u001B[0;34m>\u001B[0m \u001B[0m_MAXLINE\u001B[0m\u001B[0;34m:\u001B[0m\u001B[0;34m\u001B[0m\u001B[0;34m\u001B[0m\u001B[0m\n\u001B[1;32m    270\u001B[0m             \u001B[0;32mraise\u001B[0m \u001B[0mLineTooLong\u001B[0m\u001B[0;34m(\u001B[0m\u001B[0;34m\"status line\"\u001B[0m\u001B[0;34m)\u001B[0m\u001B[0;34m\u001B[0m\u001B[0;34m\u001B[0m\u001B[0m\n",
      "\u001B[0;32m~/anaconda3/lib/python3.8/socket.py\u001B[0m in \u001B[0;36mreadinto\u001B[0;34m(self, b)\u001B[0m\n\u001B[1;32m    667\u001B[0m         \u001B[0;32mwhile\u001B[0m \u001B[0;32mTrue\u001B[0m\u001B[0;34m:\u001B[0m\u001B[0;34m\u001B[0m\u001B[0;34m\u001B[0m\u001B[0m\n\u001B[1;32m    668\u001B[0m             \u001B[0;32mtry\u001B[0m\u001B[0;34m:\u001B[0m\u001B[0;34m\u001B[0m\u001B[0;34m\u001B[0m\u001B[0m\n\u001B[0;32m--> 669\u001B[0;31m                 \u001B[0;32mreturn\u001B[0m \u001B[0mself\u001B[0m\u001B[0;34m.\u001B[0m\u001B[0m_sock\u001B[0m\u001B[0;34m.\u001B[0m\u001B[0mrecv_into\u001B[0m\u001B[0;34m(\u001B[0m\u001B[0mb\u001B[0m\u001B[0;34m)\u001B[0m\u001B[0;34m\u001B[0m\u001B[0;34m\u001B[0m\u001B[0m\n\u001B[0m\u001B[1;32m    670\u001B[0m             \u001B[0;32mexcept\u001B[0m \u001B[0mtimeout\u001B[0m\u001B[0;34m:\u001B[0m\u001B[0;34m\u001B[0m\u001B[0;34m\u001B[0m\u001B[0m\n\u001B[1;32m    671\u001B[0m                 \u001B[0mself\u001B[0m\u001B[0;34m.\u001B[0m\u001B[0m_timeout_occurred\u001B[0m \u001B[0;34m=\u001B[0m \u001B[0;32mTrue\u001B[0m\u001B[0;34m\u001B[0m\u001B[0;34m\u001B[0m\u001B[0m\n",
      "\u001B[0;32m~/anaconda3/lib/python3.8/ssl.py\u001B[0m in \u001B[0;36mrecv_into\u001B[0;34m(self, buffer, nbytes, flags)\u001B[0m\n\u001B[1;32m   1239\u001B[0m                   \u001B[0;34m\"non-zero flags not allowed in calls to recv_into() on %s\"\u001B[0m \u001B[0;34m%\u001B[0m\u001B[0;34m\u001B[0m\u001B[0;34m\u001B[0m\u001B[0m\n\u001B[1;32m   1240\u001B[0m                   self.__class__)\n\u001B[0;32m-> 1241\u001B[0;31m             \u001B[0;32mreturn\u001B[0m \u001B[0mself\u001B[0m\u001B[0;34m.\u001B[0m\u001B[0mread\u001B[0m\u001B[0;34m(\u001B[0m\u001B[0mnbytes\u001B[0m\u001B[0;34m,\u001B[0m \u001B[0mbuffer\u001B[0m\u001B[0;34m)\u001B[0m\u001B[0;34m\u001B[0m\u001B[0;34m\u001B[0m\u001B[0m\n\u001B[0m\u001B[1;32m   1242\u001B[0m         \u001B[0;32melse\u001B[0m\u001B[0;34m:\u001B[0m\u001B[0;34m\u001B[0m\u001B[0;34m\u001B[0m\u001B[0m\n\u001B[1;32m   1243\u001B[0m             \u001B[0;32mreturn\u001B[0m \u001B[0msuper\u001B[0m\u001B[0;34m(\u001B[0m\u001B[0;34m)\u001B[0m\u001B[0;34m.\u001B[0m\u001B[0mrecv_into\u001B[0m\u001B[0;34m(\u001B[0m\u001B[0mbuffer\u001B[0m\u001B[0;34m,\u001B[0m \u001B[0mnbytes\u001B[0m\u001B[0;34m,\u001B[0m \u001B[0mflags\u001B[0m\u001B[0;34m)\u001B[0m\u001B[0;34m\u001B[0m\u001B[0;34m\u001B[0m\u001B[0m\n",
      "\u001B[0;32m~/anaconda3/lib/python3.8/ssl.py\u001B[0m in \u001B[0;36mread\u001B[0;34m(self, len, buffer)\u001B[0m\n\u001B[1;32m   1097\u001B[0m         \u001B[0;32mtry\u001B[0m\u001B[0;34m:\u001B[0m\u001B[0;34m\u001B[0m\u001B[0;34m\u001B[0m\u001B[0m\n\u001B[1;32m   1098\u001B[0m             \u001B[0;32mif\u001B[0m \u001B[0mbuffer\u001B[0m \u001B[0;32mis\u001B[0m \u001B[0;32mnot\u001B[0m \u001B[0;32mNone\u001B[0m\u001B[0;34m:\u001B[0m\u001B[0;34m\u001B[0m\u001B[0;34m\u001B[0m\u001B[0m\n\u001B[0;32m-> 1099\u001B[0;31m                 \u001B[0;32mreturn\u001B[0m \u001B[0mself\u001B[0m\u001B[0;34m.\u001B[0m\u001B[0m_sslobj\u001B[0m\u001B[0;34m.\u001B[0m\u001B[0mread\u001B[0m\u001B[0;34m(\u001B[0m\u001B[0mlen\u001B[0m\u001B[0;34m,\u001B[0m \u001B[0mbuffer\u001B[0m\u001B[0;34m)\u001B[0m\u001B[0;34m\u001B[0m\u001B[0;34m\u001B[0m\u001B[0m\n\u001B[0m\u001B[1;32m   1100\u001B[0m             \u001B[0;32melse\u001B[0m\u001B[0;34m:\u001B[0m\u001B[0;34m\u001B[0m\u001B[0;34m\u001B[0m\u001B[0m\n\u001B[1;32m   1101\u001B[0m                 \u001B[0;32mreturn\u001B[0m \u001B[0mself\u001B[0m\u001B[0;34m.\u001B[0m\u001B[0m_sslobj\u001B[0m\u001B[0;34m.\u001B[0m\u001B[0mread\u001B[0m\u001B[0;34m(\u001B[0m\u001B[0mlen\u001B[0m\u001B[0;34m)\u001B[0m\u001B[0;34m\u001B[0m\u001B[0;34m\u001B[0m\u001B[0m\n",
      "\u001B[0;31mKeyboardInterrupt\u001B[0m: "
     ]
    }
   ],
   "source": [
    "import datetime\n",
    "import pymongo\n",
    "\n",
    "\n",
    "\n",
    "def get_data_index(start,end):\n",
    "    start_date = datetime.datetime.strptime(start, '%Y-%m-%d')\n",
    "    end_date  = datetime.datetime.strptime(end, '%Y-%m-%d')\n",
    "    day_count = (start_date - end_date ).days - 1\n",
    "    index_data = [d.strftime('%Y-%m-%d') for d in (start_date - datetime.timedelta(n) for n in range(day_count))]\n",
    "\n",
    "    print('day count :', day_count)\n",
    "    return index_data\n",
    "\n",
    "\n",
    "query = '美妝' # the query you want to crawl\n",
    "index_date  = get_data_index('2019-09-12','2011-12-16') # the range of data you want to crawl\n",
    "save_to = f'./result/{query}/'  # the path you want to save the data\n",
    "wait_time = 1\n",
    "crawled_post_count = 0\n",
    "\n",
    "# db config\n",
    "db_config = {\n",
    "            'host': \"mongodb://localhost:27017/\",\n",
    "            'username': 'tom',\n",
    "            'password': '123456',\n",
    "            }\n",
    "\n",
    "db =  pymongo.MongoClient(db_config['host'], username=db_config['username'], password=db_config['password'])['dcard']\n",
    "\n",
    "\n",
    "\n",
    "for _date in index_date:\n",
    "    os.makedirs(f'{save_to}',exist_ok=True)\n",
    "\n",
    "    json_result = get_post(_date,query)\n",
    "    posts = json_result['data']['posts']\n",
    "\n",
    "    if not posts:\n",
    "        logger.error(f\"Date {_date}\"+ str('Internal Server Error'))\n",
    "        continue\n",
    "\n",
    "    for _post in posts:\n",
    "        crawled_post_count+=1\n",
    "        comment_count = _post['commentCount']\n",
    "        if comment_count>0:\n",
    "            try:\n",
    "                comments = get_comment(_post['id'])\n",
    "                if not comments:\n",
    "                    logger.error(f\"In post {_post['id']}\"+ str('Internal Server Error'))\n",
    "\n",
    "                _post['comments'] = comments\n",
    "            except Exception as e:\n",
    "                logger.error(f\"In post {_post['id']}\"+ str(e))\n",
    "                print(f\"In post {_post['id']}\"+ str(e))\n",
    "\n",
    "        # save to mongodb, comment it if you don't want to save to mongodb\n",
    "        db['makeup'].update_one({'_id': _post['id']}, {\"$set\":_post },upsert=True)\n",
    "\n",
    "    if crawled_post_count%40 == 0:\n",
    "        random_wait_time = random.randint(2,6)\n",
    "        time.sleep(random_wait_time)\n",
    "        print(f'wait for {random_wait_time}s')\n",
    "\n",
    "    with open(save_to+_date+'.json', 'w') as file:\n",
    "        json.dump(posts, file, indent=4, sort_keys=True)\n",
    "\n"
   ],
   "metadata": {
    "collapsed": false
   }
  },
  {
   "cell_type": "code",
   "execution_count": 7,
   "outputs": [
    {
     "data": {
      "text/plain": "{'id': 232054152,\n 'title': 'romand 唇釉',\n 'content': 'https://i.imgur.com/9XqGxFc.jpg\\n前幾天買了一支romand的果汁唇釉\\n結果今天拿來用的時候 發現嘴唇有刺痛感 之後就馬上卸掉\\n上網查也有人這樣但是是因為嘴唇有傷口\\n但我嘴唇沒有傷口\\n我覺得我可能是對裡面某種成份敏感\\n想請問版上有人會這樣嗎？？\\n\\n另外最近快秋冬了想買他們家的絕對零感霧面唇釉\\nhttps://i.imgur.com/I5znzV8.jpg\\n但又怕會像那支果汁唇釉一樣過敏 希望看看大家的意見 要買嗎？？ʕ(•̀ω•́ʔ✧)\\n\\n\\n(稍後補美妝點)',\n 'excerpt': '前幾天買了一支romand的果汁唇釉，結果今天拿來用的時候 發現嘴唇有刺痛感 之後就馬上卸掉，上網查也有人這樣但是是因為嘴唇有傷口，但我嘴唇沒有傷口，我覺得我可能是對裡面某種成份敏感，想請問版上有人會',\n 'createdAt': '2019-09-10T15:38:36.888000Z',\n 'updatedAt': '2019-09-10T15:38:36.888000',\n 'commentCount': 1,\n 'likeCount': 4,\n 'forumName': '美妝',\n 'forumAlias': 'makeup',\n 'school': '仁德醫護管理專科學校',\n 'gender': 'F',\n 'hidden': False,\n 'media': [{'url': 'https://i.imgur.com/9XqGxFc.jpg'},\n  {'url': 'https://i.imgur.com/I5znzV8.jpg'}],\n 'score': '2019-09-10T22:52:05.879000Z',\n 'order': '2019-09-10T15:38:36.888000Z',\n 'comments': [{'_id': '5d77c733f380bc4c9724e3d9',\n   'cid': 'e0e27209-e7b4-4bbc-a7e4-84f654670078',\n   'anonymous': True,\n   'postId': 232054152,\n   'createdAt': '2019-09-10T15:48:59.323Z',\n   'updatedAt': '2019-09-10T15:48:59.323Z',\n   'floor': 1,\n   'content': '我用果汁會稍稍有麻麻的感覺\\n但用霧面的不會 霧面的質地很舒服很喜歡',\n   'likeCount': 0,\n   'withNickname': False,\n   'hiddenByAuthor': False,\n   'meta': {},\n   'gender': 'F',\n   'school': '實踐大學',\n   'host': False,\n   'reportReason': '',\n   'mediaMeta': [],\n   'hidden': False,\n   'inReview': False,\n   'reportReasonText': '',\n   'postAvatar': ''}]}"
     },
     "execution_count": 7,
     "metadata": {},
     "output_type": "execute_result"
    }
   ],
   "source": [
    "json_result['data']['posts'][1]"
   ],
   "metadata": {
    "collapsed": false
   }
  }
 ],
 "metadata": {
  "kernelspec": {
   "display_name": "Python 3 (ipykernel)",
   "language": "python",
   "name": "python3"
  },
  "language_info": {
   "codemirror_mode": {
    "name": "ipython",
    "version": 3
   },
   "file_extension": ".py",
   "mimetype": "text/x-python",
   "name": "python",
   "nbconvert_exporter": "python",
   "pygments_lexer": "ipython3",
   "version": "3.8.10"
  }
 },
 "nbformat": 4,
 "nbformat_minor": 5
}
